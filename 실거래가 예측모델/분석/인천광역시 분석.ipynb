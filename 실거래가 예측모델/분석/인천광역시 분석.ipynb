{
 "cells": [
  {
   "cell_type": "code",
   "execution_count": 1,
   "metadata": {},
   "outputs": [],
   "source": [
    "import pandas as pd\n",
    "import numpy as np\n",
    "import matplotlib.pyplot as plt\n",
    "import pymysql\n",
    "from sqlalchemy import create_engine\n",
    "import time\n",
    "from sklearn.preprocessing import StandardScaler, normalize, RobustScaler, MinMaxScaler, FunctionTransformer\n",
    "from scipy.stats import boxcox\n",
    "from sklearn.model_selection import StratifiedShuffleSplit\n",
    "from sklearn.pipeline import Pipeline\n",
    "from sklearn.compose import ColumnTransformer\n",
    "from sklearn.cluster import KMeans\n",
    "from sklearn.decomposition import PCA\n",
    "import scipy.cluster.hierarchy as hc\n",
    "from sklearn.cluster import AgglomerativeClustering\n",
    "from haversine import haversine, Unit\n"
   ]
  },
  {
   "cell_type": "code",
   "execution_count": 2,
   "metadata": {},
   "outputs": [],
   "source": [
    "con = pymysql.connect(host='localhost', user='jiwoo', password='1234', db='TESTDB', charset='utf8', autocommit=True, cursorclass=pymysql.cursors.DictCursor)\n",
    "cur = con.cursor()\n",
    "sql = \"SELECT pk, 시도, 시군구, complex_name, official_price, 경도, 위도, closest_sub, closest_high, school_1km, area, floor, actual FROM off_act_price WHERE 시도='인천광역시'\"\n",
    "cur.execute(sql)\n",
    "rows = cur.fetchall()\n",
    "con.close()"
   ]
  },
  {
   "cell_type": "code",
   "execution_count": 3,
   "metadata": {},
   "outputs": [],
   "source": [
    "gangwon = pd.DataFrame(rows)"
   ]
  },
  {
   "cell_type": "code",
   "execution_count": 4,
   "metadata": {},
   "outputs": [],
   "source": [
    "real_trainInfo = gangwon.dropna(subset='actual')\n",
    "needPredict = gangwon[gangwon['actual'].isnull()==True]\n",
    "\n",
    "X = real_trainInfo.drop('actual', axis=1)\n",
    "y = real_trainInfo['actual']"
   ]
  },
  {
   "cell_type": "code",
   "execution_count": 6,
   "metadata": {},
   "outputs": [],
   "source": [
    "from sklearn.model_selection import train_test_split\n",
    "X_train, X_test, y_train, y_test = train_test_split(X, y, test_size=0.2, random_state=42)\n",
    "x_train, x_valid, y_train, y_valid = train_test_split(X_train, y_train, test_size=0.25, random_state=1)"
   ]
  },
  {
   "cell_type": "code",
   "execution_count": 7,
   "metadata": {},
   "outputs": [
    {
     "name": "stderr",
     "output_type": "stream",
     "text": [
      "<ipython-input-7-71bc357cbf46>:8: SettingWithCopyWarning: \n",
      "A value is trying to be set on a copy of a slice from a DataFrame.\n",
      "Try using .loc[row_indexer,col_indexer] = value instead\n",
      "\n",
      "See the caveats in the documentation: https://pandas.pydata.org/pandas-docs/stable/user_guide/indexing.html#returning-a-view-versus-a-copy\n",
      "  needPredict['floor'] = needPredict['floor']+2\n",
      "<ipython-input-7-71bc357cbf46>:11: SettingWithCopyWarning: \n",
      "A value is trying to be set on a copy of a slice from a DataFrame.\n",
      "Try using .loc[row_indexer,col_indexer] = value instead\n",
      "\n",
      "See the caveats in the documentation: https://pandas.pydata.org/pandas-docs/stable/user_guide/indexing.html#returning-a-view-versus-a-copy\n",
      "  needPredict['school_1km'] = needPredict['school_1km']+2\n"
     ]
    }
   ],
   "source": [
    "train_pk = x_train[['pk', 'complex_name', '시군구']]\n",
    "valid_pk = x_valid[['pk', 'complex_name', '시군구']]\n",
    "test_pk = X_test[['pk', 'complex_name', '시군구']]\n",
    "predict_pk = needPredict[['pk', 'complex_name', '시군구']]\n",
    "\n",
    "train_data = x_train.join(y_train)\n",
    "train_data['floor'] = train_data['floor']+2\n",
    "needPredict['floor'] = needPredict['floor']+2\n",
    "#train_data['1km내sub수+'] = train_data['1km내sub수']+2\n",
    "train_data['school_1km'] = train_data['school_1km']+2\n",
    "needPredict['school_1km'] = needPredict['school_1km']+2"
   ]
  },
  {
   "cell_type": "code",
   "execution_count": 8,
   "metadata": {},
   "outputs": [
    {
     "name": "stderr",
     "output_type": "stream",
     "text": [
      "<ipython-input-8-667390977756>:6: SettingWithCopyWarning: \n",
      "A value is trying to be set on a copy of a slice from a DataFrame.\n",
      "Try using .loc[row_indexer,col_indexer] = value instead\n",
      "\n",
      "See the caveats in the documentation: https://pandas.pydata.org/pandas-docs/stable/user_guide/indexing.html#returning-a-view-versus-a-copy\n",
      "  needPredict[['school_1km', 'area']] = np.sqrt(needPredict[['school_1km', 'area']])\n",
      "<ipython-input-8-667390977756>:7: SettingWithCopyWarning: \n",
      "A value is trying to be set on a copy of a slice from a DataFrame.\n",
      "Try using .loc[row_indexer,col_indexer] = value instead\n",
      "\n",
      "See the caveats in the documentation: https://pandas.pydata.org/pandas-docs/stable/user_guide/indexing.html#returning-a-view-versus-a-copy\n",
      "  needPredict[['floor', 'official_price', 'closest_sub', 'closest_high']] = np.log(needPredict[['floor', 'official_price', 'closest_sub', 'closest_high']])\n"
     ]
    }
   ],
   "source": [
    "from scipy.stats import boxcox\n",
    "#train_data['area'] = train_data['area'].apply(lambda x: boxcox(x)[0])\n",
    "train_data[['school_1km', 'area']] = np.sqrt(train_data[['school_1km', 'area']])\n",
    "train_data[['actual','floor', 'official_price', 'closest_sub', 'closest_high']] = np.log(train_data[['actual','floor', 'official_price', 'closest_sub', 'closest_high']])\n",
    "#needPredict['area'] = needPredict['area'].apply(lambda x: boxcox(x)[0])\n",
    "needPredict[['school_1km', 'area']] = np.sqrt(needPredict[['school_1km', 'area']])\n",
    "needPredict[['floor', 'official_price', 'closest_sub', 'closest_high']] = np.log(needPredict[['floor', 'official_price', 'closest_sub', 'closest_high']])"
   ]
  },
  {
   "cell_type": "code",
   "execution_count": 9,
   "metadata": {},
   "outputs": [],
   "source": [
    "realX = needPredict.drop(['actual', 'pk', '시도', 'complex_name', '시군구'], axis=1)"
   ]
  },
  {
   "cell_type": "code",
   "execution_count": 10,
   "metadata": {},
   "outputs": [],
   "source": [
    "x_train, y_train = train_data.drop(['actual', 'pk', '시도', 'complex_name', '시군구'], axis=1), train_data['actual']\n",
    "\n",
    "valid_data = x_valid.join(y_valid)\n",
    "\n",
    "valid_data['floor'] = valid_data['floor']+2\n",
    "#valid_data['1km내sub수+'] = valid_data['1km내sub수']+2\n",
    "valid_data['school_1km'] = valid_data['school_1km']+2"
   ]
  },
  {
   "cell_type": "code",
   "execution_count": 11,
   "metadata": {},
   "outputs": [],
   "source": [
    "valid_data[['school_1km', 'area']] = np.sqrt(valid_data[['school_1km', 'area']])\n",
    "valid_data[['actual','floor', 'official_price', 'closest_sub', 'closest_high']] = np.log(valid_data[['actual','floor', 'official_price', 'closest_sub', 'closest_high']])\n",
    "\n",
    "x_valid, y_valid = valid_data.drop(['actual', 'pk', '시도', 'complex_name', '시군구'], axis=1), valid_data['actual']"
   ]
  },
  {
   "cell_type": "code",
   "execution_count": 12,
   "metadata": {},
   "outputs": [],
   "source": [
    "test_data = X_test.join(y_test)\n",
    "\n",
    "test_data['floor'] = test_data['floor']+2\n",
    "#valid_data['1km내sub수+'] = valid_data['1km내sub수']+2\n",
    "test_data['school_1km'] = test_data['school_1km']+2\n",
    "\n",
    "#valid_data['area'] = valid_data['area'].apply(lambda x: boxcox(x)[0])\n",
    "test_data[['school_1km', 'area']] = np.sqrt(test_data[['school_1km', 'area']])\n",
    "test_data[['actual_price','floor', 'official_price', 'closest_sub', 'closest_high']] = np.log(test_data[['actual','floor', 'official_price', 'closest_sub', 'closest_high']])"
   ]
  },
  {
   "cell_type": "code",
   "execution_count": 13,
   "metadata": {},
   "outputs": [],
   "source": [
    "y_test_actual_price = test_data['actual']\n",
    "X_test, y_test = test_data.drop(['actual', 'actual_price', 'pk', '시도', 'complex_name', '시군구'], axis=1), test_data['actual_price']\n",
    "\n",
    "scaler = MinMaxScaler()\n",
    "scaler.fit(x_train)\n",
    "x_train_s = scaler.transform(x_train)\n",
    "x_valid_s = scaler.transform(x_valid)\n",
    "X_test_s = scaler.transform(X_test)"
   ]
  },
  {
   "cell_type": "code",
   "execution_count": 14,
   "metadata": {},
   "outputs": [],
   "source": [
    "from sklearn.tree import DecisionTreeRegressor\n",
    "from sklearn.metrics import mean_absolute_error\n",
    "from sklearn.metrics import r2_score\n",
    "\n",
    "tree = DecisionTreeRegressor()\n",
    "tree.fit(x_train_s, y_train)\n",
    "\n",
    "treeScore = tree.score(X_test_s, y_test)\n",
    "\n",
    "y_pred_train = tree.predict(x_train_s)\n",
    "\n",
    "tree_R2 = r2_score(y_train, y_pred_train)\n",
    "tree_mae = mean_absolute_error(y_train, y_pred_train)\n",
    "\n",
    "y_pred_valid = tree.predict(x_valid_s)\n",
    "\n",
    "tree_R2 = r2_score(y_valid, y_pred_valid)\n",
    "tree_mae = mean_absolute_error(y_valid, y_pred_valid)\n",
    "\n",
    "from sklearn.model_selection import cross_val_score\n",
    "tree_scores = cross_val_score(tree, x_valid_s, y_valid, scoring='neg_mean_squared_error', cv=10)\n",
    "tree_rmse_scores = np.sqrt(-tree_scores)\n",
    "\n",
    "final_pred_tree = tree.predict(X_test_s)\n",
    "\n",
    "from sklearn.metrics import mean_squared_error\n",
    "final_mse_tree = mean_squared_error(y_test, final_pred_tree)\n",
    "final_rmse_tree = np.sqrt(final_mse_tree)\n",
    "final_r2_tree = r2_score(y_test, final_pred_tree)\n",
    "\n",
    "needPredict_s = scaler.transform(realX)\n",
    "finalPred = tree.predict(needPredict_s)\n",
    "needPred_df = pd.DataFrame(finalPred, columns=['예측가격'])\n",
    "needPred_df[['pk', 'complex_name', '시군구']] = predict_pk[['pk', 'complex_name', '시군구']].values\n",
    "needPred_df['predicted_price'] = np.exp(needPred_df['예측가격'])\n",
    "needPred_df.drop('예측가격', axis=1, inplace=True)"
   ]
  },
  {
   "cell_type": "code",
   "execution_count": 15,
   "metadata": {},
   "outputs": [
    {
     "name": "stdout",
     "output_type": "stream",
     "text": [
      "       predicted_price  actual_price          error\n",
      "count     6.812710e+05  6.812710e+05  681271.000000\n",
      "mean      2.714213e+08  2.752207e+08       1.364891\n",
      "std       1.297830e+08  1.422281e+08      15.778586\n",
      "min       3.200000e+07  3.200000e+07     -58.074140\n",
      "25%       1.739857e+08  1.735000e+08      -6.665683\n",
      "50%       2.532576e+08  2.490000e+08       3.164142\n",
      "75%       3.400715e+08  3.450000e+08      11.588597\n",
      "max       3.483253e+09  4.500000e+09     136.139630\n"
     ]
    },
    {
     "data": {
      "image/png": "[encoded data removed]",
      "text/plain": [
       "<Figure size 432x288 with 1 Axes>"
      ]
     },
     "metadata": {
      "needs_background": "light"
     },
     "output_type": "display_data"
    }
   ],
   "source": [
    "# 예측값\n",
    "pred_tr = pd.DataFrame(final_pred_tree, columns=['예측가격'])\n",
    "pred_tr[['pk', 'complex_name', '시군구']] = test_pk[['pk', 'complex_name', '시군구']].values\n",
    "pred_tr['predicted_price'] = np.exp(pred_tr['예측가격'])\n",
    "pred_tr['actual_price'] = y_test_actual_price.values\n",
    "pred_tr['predicted_price'] = pred_tr['predicted_price'].astype(float)\n",
    "# 결측치가 있는 것 같지는 않고 nan 이런 식으로 숫자가 아닌 데이터가 있는 듯. 확인해보기 바람\n",
    "pred_tr.drop('예측가격', axis=1, inplace=True)\n",
    "#pred_tr['predicted_price'] = pred_tr['predicted_price'].apply(lambda x: '{:.0f}'.format(x))\n",
    "#jisang['codes'] = jisang['호str'].apply(lambda x: int(x) if x.isnumeric() else 0)\n",
    "\n",
    "pred_tr['error'] = (pred_tr['predicted_price'] - pred_tr['actual_price']) / pred_tr['actual_price'] * 100\n",
    "#check = pred_tr[(pred_tr['error']<-50)|(pred_tr['error']>50)]\n",
    "check = pred_tr[(pred_tr['error']>100)]\n",
    "print(pred_tr.describe())\n",
    "check.describe()\n",
    "check['error'].hist(bins=50)\n",
    "plt.rc(\"axes\", unicode_minus=False)\n",
    "plt.rc('font', family='NanumGothic')\n",
    "plt.title('incheon error')\n",
    "plt.show()"
   ]
  },
  {
   "cell_type": "code",
   "execution_count": 18,
   "metadata": {},
   "outputs": [
    {
     "data": {
      "text/html": [
       "<div>\n",
       "<style scoped>\n",
       "    .dataframe tbody tr th:only-of-type {\n",
       "        vertical-align: middle;\n",
       "    }\n",
       "\n",
       "    .dataframe tbody tr th {\n",
       "        vertical-align: top;\n",
       "    }\n",
       "\n",
       "    .dataframe thead th {\n",
       "        text-align: right;\n",
       "    }\n",
       "</style>\n",
       "<table border=\"1\" class=\"dataframe\">\n",
       "  <thead>\n",
       "    <tr style=\"text-align: right;\">\n",
       "      <th></th>\n",
       "      <th>predicted_price</th>\n",
       "      <th>actual_price</th>\n",
       "      <th>error</th>\n",
       "    </tr>\n",
       "  </thead>\n",
       "  <tbody>\n",
       "    <tr>\n",
       "      <th>count</th>\n",
       "      <td>1.500000e+01</td>\n",
       "      <td>1.500000e+01</td>\n",
       "      <td>15.000000</td>\n",
       "    </tr>\n",
       "    <tr>\n",
       "      <th>mean</th>\n",
       "      <td>7.387807e+08</td>\n",
       "      <td>3.416667e+08</td>\n",
       "      <td>117.422292</td>\n",
       "    </tr>\n",
       "    <tr>\n",
       "      <th>std</th>\n",
       "      <td>5.507233e+08</td>\n",
       "      <td>2.579465e+08</td>\n",
       "      <td>10.061742</td>\n",
       "    </tr>\n",
       "    <tr>\n",
       "      <th>min</th>\n",
       "      <td>1.329380e+08</td>\n",
       "      <td>6.500000e+07</td>\n",
       "      <td>101.980198</td>\n",
       "    </tr>\n",
       "    <tr>\n",
       "      <th>25%</th>\n",
       "      <td>2.102319e+08</td>\n",
       "      <td>9.400000e+07</td>\n",
       "      <td>110.781779</td>\n",
       "    </tr>\n",
       "    <tr>\n",
       "      <th>50%</th>\n",
       "      <td>7.900000e+08</td>\n",
       "      <td>3.600000e+08</td>\n",
       "      <td>118.487395</td>\n",
       "    </tr>\n",
       "    <tr>\n",
       "      <th>75%</th>\n",
       "      <td>1.217583e+09</td>\n",
       "      <td>5.690000e+08</td>\n",
       "      <td>121.651687</td>\n",
       "    </tr>\n",
       "    <tr>\n",
       "      <th>max</th>\n",
       "      <td>1.759545e+09</td>\n",
       "      <td>8.450000e+08</td>\n",
       "      <td>136.139630</td>\n",
       "    </tr>\n",
       "  </tbody>\n",
       "</table>\n",
       "</div>"
      ],
      "text/plain": [
       "       predicted_price  actual_price       error\n",
       "count     1.500000e+01  1.500000e+01   15.000000\n",
       "mean      7.387807e+08  3.416667e+08  117.422292\n",
       "std       5.507233e+08  2.579465e+08   10.061742\n",
       "min       1.329380e+08  6.500000e+07  101.980198\n",
       "25%       2.102319e+08  9.400000e+07  110.781779\n",
       "50%       7.900000e+08  3.600000e+08  118.487395\n",
       "75%       1.217583e+09  5.690000e+08  121.651687\n",
       "max       1.759545e+09  8.450000e+08  136.139630"
      ]
     },
     "execution_count": 18,
     "metadata": {},
     "output_type": "execute_result"
    }
   ],
   "source": [
    "check.describe()"
   ]
  },
  {
   "cell_type": "code",
   "execution_count": 19,
   "metadata": {},
   "outputs": [
    {
     "data": {
      "image/png": "[encoded data removed]",
      "text/plain": [
       "<Figure size 2160x504 with 1 Axes>"
      ]
     },
     "metadata": {
      "needs_background": "light"
     },
     "output_type": "display_data"
    }
   ],
   "source": [
    "test_df = pred_tr[['pk', 'predicted_price']]\n",
    "total_df = pd.concat([needPred_df, test_df])\n",
    "\n",
    "\n",
    "final_tr = check[['predicted_price', 'actual_price']]\n",
    "\n",
    "final_tr.iloc[0:20, :].plot(figsize=(30,7))\n",
    "plt.show()\n"
   ]
  },
  {
   "cell_type": "code",
   "execution_count": 20,
   "metadata": {},
   "outputs": [
    {
     "data": {
      "text/html": [
       "<div>\n",
       "<style scoped>\n",
       "    .dataframe tbody tr th:only-of-type {\n",
       "        vertical-align: middle;\n",
       "    }\n",
       "\n",
       "    .dataframe tbody tr th {\n",
       "        vertical-align: top;\n",
       "    }\n",
       "\n",
       "    .dataframe thead th {\n",
       "        text-align: right;\n",
       "    }\n",
       "</style>\n",
       "<table border=\"1\" class=\"dataframe\">\n",
       "  <thead>\n",
       "    <tr style=\"text-align: right;\">\n",
       "      <th></th>\n",
       "      <th>pk</th>\n",
       "      <th>complex_name</th>\n",
       "      <th>시군구</th>\n",
       "      <th>predicted_price</th>\n",
       "      <th>actual_price</th>\n",
       "      <th>error</th>\n",
       "    </tr>\n",
       "  </thead>\n",
       "  <tbody>\n",
       "    <tr>\n",
       "      <th>65050</th>\n",
       "      <td>00005472_0002_0017</td>\n",
       "      <td>삼부</td>\n",
       "      <td>동구</td>\n",
       "      <td>1.650668e+08</td>\n",
       "      <td>75000000.0</td>\n",
       "      <td>120.089088</td>\n",
       "    </tr>\n",
       "    <tr>\n",
       "      <th>78128</th>\n",
       "      <td>00005651_0002_0028</td>\n",
       "      <td>광명</td>\n",
       "      <td>부평구</td>\n",
       "      <td>2.304638e+08</td>\n",
       "      <td>100000000.0</td>\n",
       "      <td>130.463838</td>\n",
       "    </tr>\n",
       "    <tr>\n",
       "      <th>100410</th>\n",
       "      <td>20009226_0005_0051</td>\n",
       "      <td>송도풍림아이원2단지</td>\n",
       "      <td>연수구</td>\n",
       "      <td>7.900000e+08</td>\n",
       "      <td>360000000.0</td>\n",
       "      <td>119.444444</td>\n",
       "    </tr>\n",
       "    <tr>\n",
       "      <th>158455</th>\n",
       "      <td>00005472_0002_0011</td>\n",
       "      <td>삼부</td>\n",
       "      <td>동구</td>\n",
       "      <td>1.650668e+08</td>\n",
       "      <td>75000000.0</td>\n",
       "      <td>120.089088</td>\n",
       "    </tr>\n",
       "    <tr>\n",
       "      <th>188992</th>\n",
       "      <td>20116346_0004_0089</td>\n",
       "      <td>더샵퍼스트월드</td>\n",
       "      <td>연수구</td>\n",
       "      <td>1.150000e+09</td>\n",
       "      <td>487000000.0</td>\n",
       "      <td>136.139630</td>\n",
       "    </tr>\n",
       "    <tr>\n",
       "      <th>214901</th>\n",
       "      <td>20376353_0001_0050</td>\n",
       "      <td>송도아메리칸타운아이파크</td>\n",
       "      <td>연수구</td>\n",
       "      <td>8.450000e+08</td>\n",
       "      <td>395000000.0</td>\n",
       "      <td>113.924051</td>\n",
       "    </tr>\n",
       "    <tr>\n",
       "      <th>240596</th>\n",
       "      <td>00009062_0001_0017</td>\n",
       "      <td>태평1차</td>\n",
       "      <td>남동구</td>\n",
       "      <td>4.080000e+08</td>\n",
       "      <td>202000000.0</td>\n",
       "      <td>101.980198</td>\n",
       "    </tr>\n",
       "    <tr>\n",
       "      <th>247793</th>\n",
       "      <td>20174554_0004_0138</td>\n",
       "      <td>청라더샵레이크파크</td>\n",
       "      <td>서구</td>\n",
       "      <td>1.300000e+09</td>\n",
       "      <td>595000000.0</td>\n",
       "      <td>118.487395</td>\n",
       "    </tr>\n",
       "    <tr>\n",
       "      <th>340880</th>\n",
       "      <td>20376353_0003_0045</td>\n",
       "      <td>송도아메리칸타운아이파크</td>\n",
       "      <td>연수구</td>\n",
       "      <td>1.250000e+09</td>\n",
       "      <td>560000000.0</td>\n",
       "      <td>123.214286</td>\n",
       "    </tr>\n",
       "    <tr>\n",
       "      <th>451453</th>\n",
       "      <td>00005651_0002_0029</td>\n",
       "      <td>광명</td>\n",
       "      <td>부평구</td>\n",
       "      <td>2.304638e+08</td>\n",
       "      <td>100000000.0</td>\n",
       "      <td>130.463838</td>\n",
       "    </tr>\n",
       "    <tr>\n",
       "      <th>505821</th>\n",
       "      <td>20324721_0001_0143</td>\n",
       "      <td>송도아트윈푸르지오</td>\n",
       "      <td>연수구</td>\n",
       "      <td>1.280000e+09</td>\n",
       "      <td>600000000.0</td>\n",
       "      <td>113.333333</td>\n",
       "    </tr>\n",
       "    <tr>\n",
       "      <th>558908</th>\n",
       "      <td>20348876_0001_0031</td>\n",
       "      <td>제니스16차</td>\n",
       "      <td>서구</td>\n",
       "      <td>1.900000e+08</td>\n",
       "      <td>88000000.0</td>\n",
       "      <td>115.909091</td>\n",
       "    </tr>\n",
       "    <tr>\n",
       "      <th>562073</th>\n",
       "      <td>20180151_0001_0198</td>\n",
       "      <td>대우푸르지오</td>\n",
       "      <td>서구</td>\n",
       "      <td>1.759545e+09</td>\n",
       "      <td>845000000.0</td>\n",
       "      <td>108.230224</td>\n",
       "    </tr>\n",
       "    <tr>\n",
       "      <th>591667</th>\n",
       "      <td>20133279_0001_0080</td>\n",
       "      <td>더샵센트럴파크1</td>\n",
       "      <td>연수구</td>\n",
       "      <td>1.185166e+09</td>\n",
       "      <td>578000000.0</td>\n",
       "      <td>105.045938</td>\n",
       "    </tr>\n",
       "    <tr>\n",
       "      <th>610022</th>\n",
       "      <td>00218743_0001_0001</td>\n",
       "      <td>세중(395-7)</td>\n",
       "      <td>미추홀구</td>\n",
       "      <td>1.329380e+08</td>\n",
       "      <td>65000000.0</td>\n",
       "      <td>104.519942</td>\n",
       "    </tr>\n",
       "  </tbody>\n",
       "</table>\n",
       "</div>"
      ],
      "text/plain": [
       "                        pk  complex_name   시군구  predicted_price  actual_price  \\\n",
       "65050   00005472_0002_0017            삼부    동구     1.650668e+08    75000000.0   \n",
       "78128   00005651_0002_0028            광명   부평구     2.304638e+08   100000000.0   \n",
       "100410  20009226_0005_0051    송도풍림아이원2단지   연수구     7.900000e+08   360000000.0   \n",
       "158455  00005472_0002_0011            삼부    동구     1.650668e+08    75000000.0   \n",
       "188992  20116346_0004_0089       더샵퍼스트월드   연수구     1.150000e+09   487000000.0   \n",
       "214901  20376353_0001_0050  송도아메리칸타운아이파크   연수구     8.450000e+08   395000000.0   \n",
       "240596  00009062_0001_0017          태평1차   남동구     4.080000e+08   202000000.0   \n",
       "247793  20174554_0004_0138     청라더샵레이크파크    서구     1.300000e+09   595000000.0   \n",
       "340880  20376353_0003_0045  송도아메리칸타운아이파크   연수구     1.250000e+09   560000000.0   \n",
       "451453  00005651_0002_0029            광명   부평구     2.304638e+08   100000000.0   \n",
       "505821  20324721_0001_0143     송도아트윈푸르지오   연수구     1.280000e+09   600000000.0   \n",
       "558908  20348876_0001_0031        제니스16차    서구     1.900000e+08    88000000.0   \n",
       "562073  20180151_0001_0198        대우푸르지오    서구     1.759545e+09   845000000.0   \n",
       "591667  20133279_0001_0080      더샵센트럴파크1   연수구     1.185166e+09   578000000.0   \n",
       "610022  00218743_0001_0001     세중(395-7)  미추홀구     1.329380e+08    65000000.0   \n",
       "\n",
       "             error  \n",
       "65050   120.089088  \n",
       "78128   130.463838  \n",
       "100410  119.444444  \n",
       "158455  120.089088  \n",
       "188992  136.139630  \n",
       "214901  113.924051  \n",
       "240596  101.980198  \n",
       "247793  118.487395  \n",
       "340880  123.214286  \n",
       "451453  130.463838  \n",
       "505821  113.333333  \n",
       "558908  115.909091  \n",
       "562073  108.230224  \n",
       "591667  105.045938  \n",
       "610022  104.519942  "
      ]
     },
     "execution_count": 20,
     "metadata": {},
     "output_type": "execute_result"
    }
   ],
   "source": [
    "check"
   ]
  },
  {
   "cell_type": "code",
   "execution_count": null,
   "metadata": {},
   "outputs": [],
   "source": []
  }
 ],
 "metadata": {
  "kernelspec": {
   "display_name": "Python 3.8.10 64-bit",
   "language": "python",
   "name": "python3"
  },
  "language_info": {
   "codemirror_mode": {
    "name": "ipython",
    "version": 3
   },
   "file_extension": ".py",
   "mimetype": "text/x-python",
   "name": "python",
   "nbconvert_exporter": "python",
   "pygments_lexer": "ipython3",
   "version": "3.8.10"
  },
  "orig_nbformat": 4,
  "vscode": {
   "interpreter": {
    "hash": "916dbcbb3f70747c44a77c7bcd40155683ae19c65e1c03b4aa3499c5328201f1"
   }
  }
 },
 "nbformat": 4,
 "nbformat_minor": 2
}
